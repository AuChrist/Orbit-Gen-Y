{
  "nbformat": 4,
  "nbformat_minor": 0,
  "metadata": {
    "colab": {
      "name": "KM-05: Functions, OOP, Time Complexity.ipynb",
      "provenance": [],
      "collapsed_sections": []
    },
    "kernelspec": {
      "name": "python3",
      "display_name": "Python 3"
    },
    "language_info": {
      "name": "python"
    }
  },
  "cells": [
    {
      "cell_type": "markdown",
      "metadata": {
        "id": "Le8N3SLcbiAd"
      },
      "source": [
        "# **Fungsi**"
      ]
    },
    {
      "cell_type": "code",
      "metadata": {
        "colab": {
          "base_uri": "https://localhost:8080/"
        },
        "id": "ywDbPVukTDYd",
        "outputId": "29197f87-c045-47a3-dff9-2504e496f608"
      },
      "source": [
        "# Deklarasi Fungsi\n",
        "def cetak(x):\n",
        "  print(x)\n",
        "\n",
        "# Memanggil Fungsi\n",
        "cetak(\"wokee\")"
      ],
      "execution_count": null,
      "outputs": [
        {
          "output_type": "stream",
          "name": "stdout",
          "text": [
            "wokee\n"
          ]
        }
      ]
    },
    {
      "cell_type": "code",
      "metadata": {
        "colab": {
          "base_uri": "https://localhost:8080/"
        },
        "id": "wbZZSEsPcU-z",
        "outputId": "f6f49b18-1f82-421c-990e-c6233bbdad86"
      },
      "source": [
        "# Latihan \n",
        "def bunga(a):  # Deklarasi Fungsi\n",
        "  print(a)\n",
        "\n",
        "bunga(\"Tulip\") # Memanggil Fungsi"
      ],
      "execution_count": null,
      "outputs": [
        {
          "output_type": "stream",
          "name": "stdout",
          "text": [
            "Tulip\n"
          ]
        }
      ]
    },
    {
      "cell_type": "code",
      "metadata": {
        "colab": {
          "base_uri": "https://localhost:8080/"
        },
        "id": "RipUgd0NTdjo",
        "outputId": "b1811f1e-01f0-4a35-93e3-6eb8fa011a9b"
      },
      "source": [
        "# Deklarasi Fungsi dengan pengembalian\n",
        "def tambah(a, b):\n",
        "  return a + b;\n",
        "\n",
        "# Memanggil Fungsi\n",
        "print(tambah(2, 3))"
      ],
      "execution_count": null,
      "outputs": [
        {
          "output_type": "stream",
          "name": "stdout",
          "text": [
            "5\n"
          ]
        }
      ]
    },
    {
      "cell_type": "code",
      "metadata": {
        "colab": {
          "base_uri": "https://localhost:8080/"
        },
        "id": "38FU__P1c-Yq",
        "outputId": "4605b915-614d-4b8a-ee9b-3b7b1b801ec7"
      },
      "source": [
        "# Latihan \n",
        "def perkalian(x, y):   # Deklarasi Fungsi dengan pengembalian\n",
        "  return x/y;\n",
        "\n",
        "print(perkalian(10,2)) # Memanggil Fungsi"
      ],
      "execution_count": null,
      "outputs": [
        {
          "output_type": "stream",
          "name": "stdout",
          "text": [
            "5.0\n"
          ]
        }
      ]
    },
    {
      "cell_type": "code",
      "metadata": {
        "id": "9r0oXaTxVRvi",
        "colab": {
          "base_uri": "https://localhost:8080/",
          "height": 35
        },
        "outputId": "7d9adf57-11d3-4dc4-8f31-800caaec7296"
      },
      "source": [
        "\"\"\"\n",
        "def nama_fungsi(arg1, arg2, ...):\n",
        "  # isi fungsi\n",
        "\n",
        "def fungsi_dengan_pengembalian(arg1, arg2, ...):\n",
        "  # isi fungsi\n",
        "  return 'sesuatu'\n",
        "\"\"\""
      ],
      "execution_count": null,
      "outputs": [
        {
          "output_type": "execute_result",
          "data": {
            "application/vnd.google.colaboratory.intrinsic+json": {
              "type": "string"
            },
            "text/plain": [
              "\"\\ndef nama_fungsi(arg1, arg2, ...):\\n  # isi fungsi\\n\\ndef fungsi_dengan_pengembalian(arg1, arg2, ...):\\n  # isi fungsi\\n  return 'sesuatu'\\n\""
            ]
          },
          "metadata": {},
          "execution_count": 5
        }
      ]
    },
    {
      "cell_type": "markdown",
      "metadata": {
        "id": "SLOP8yGkbpLO"
      },
      "source": [
        "# **Method**"
      ]
    },
    {
      "cell_type": "code",
      "metadata": {
        "id": "P_Z6c_AYWi71"
      },
      "source": [
        "\"\"\" Rumus\n",
        "class NamaClass:\n",
        "  def nama_method(arg1, arg2, ...):\n",
        "    # isi method\n",
        "\"\"\""
      ],
      "execution_count": null,
      "outputs": []
    },
    {
      "cell_type": "code",
      "metadata": {
        "colab": {
          "base_uri": "https://localhost:8080/"
        },
        "id": "uh927B9_W0N1",
        "outputId": "461dcdcb-7e0f-4e0e-8c6c-5e366828758c"
      },
      "source": [
        "# Deklarasi Object (Class)\n",
        "class Kucing(object):\n",
        "  def meong(self):\n",
        "    print(\"meeooong\")\n",
        "\n",
        "# Memanggil method\n",
        "cat = Kucing()\n",
        "cat.meong()"
      ],
      "execution_count": null,
      "outputs": [
        {
          "output_type": "stream",
          "name": "stdout",
          "text": [
            "meeooong\n"
          ]
        }
      ]
    },
    {
      "cell_type": "code",
      "metadata": {
        "colab": {
          "base_uri": "https://localhost:8080/"
        },
        "id": "MY7z0WlSdYvM",
        "outputId": "f0606272-4e86-4349-d157-a1259be8c5b5"
      },
      "source": [
        "# Latihan \n",
        "class bunga(object):    # Deklarasi Object (Class)\n",
        "  def aroma(self):\n",
        "    print(\"Harum\")\n",
        "\n",
        "flower = bunga()        # Memanggil method\n",
        "flower.aroma()"
      ],
      "execution_count": null,
      "outputs": [
        {
          "output_type": "stream",
          "name": "stdout",
          "text": [
            "Harum\n"
          ]
        }
      ]
    },
    {
      "cell_type": "markdown",
      "metadata": {
        "id": "3WbfqdEWbtsl"
      },
      "source": [
        "# **Lambda Expression**"
      ]
    },
    {
      "cell_type": "code",
      "metadata": {
        "colab": {
          "base_uri": "https://localhost:8080/"
        },
        "id": "wmZuN2s7ZzAZ",
        "outputId": "3de61f22-6911-492c-fdfb-de59a5a5cdd1"
      },
      "source": [
        "# Lambda expression\n",
        "tambah = lambda a, b: (a + b)\n",
        "print(tambah(2, 3))"
      ],
      "execution_count": null,
      "outputs": [
        {
          "output_type": "stream",
          "name": "stdout",
          "text": [
            "5\n"
          ]
        }
      ]
    },
    {
      "cell_type": "code",
      "metadata": {
        "colab": {
          "base_uri": "https://localhost:8080/"
        },
        "id": "B9EJzQEJd-zx",
        "outputId": "d9ea66a3-9828-4e5c-830b-cfc615e2c4e8"
      },
      "source": [
        "# Latihan\n",
        "kali = lambda a, b: (a * b)  # Lambda expression\n",
        "print(kali(5, 2))"
      ],
      "execution_count": null,
      "outputs": [
        {
          "output_type": "stream",
          "name": "stdout",
          "text": [
            "10\n"
          ]
        }
      ]
    },
    {
      "cell_type": "markdown",
      "metadata": {
        "id": "jxicmjLxkXCa"
      },
      "source": [
        "# **Object Oriented Programming**"
      ]
    },
    {
      "cell_type": "markdown",
      "metadata": {
        "id": "K_u-Dtb6kcBm"
      },
      "source": [
        "## **Encapsulation**"
      ]
    },
    {
      "cell_type": "code",
      "metadata": {
        "colab": {
          "base_uri": "https://localhost:8080/"
        },
        "id": "9-CEKFKYm2AA",
        "outputId": "02d8e8eb-f40e-4d75-9438-90edba07cf44"
      },
      "source": [
        "nama = \"cemong\"\n",
        "usia = 1\n",
        "warna = \"putih coklat muda\"\n",
        "jenis = \"anggora\"\n",
        "\n",
        "def meongg():\n",
        "  print(\"meeeoonnggg... \")\n",
        "\n",
        "def info_kucing(nama, usia, warna, jenis):\n",
        "  print(f\"nama: {nama}, usia: {usia}, warna: {warna}, jenis: {jenis}\")\n",
        "\n",
        "info_kucing(nama, usia, warna, jenis)\n",
        "\n",
        "\n",
        "class Kucing:\n",
        "  def __init__(self, nama, usia, warna, jenis):\n",
        "    self.nama = nama\n",
        "    self.usia = usia\n",
        "    self.warna = warna\n",
        "    self.jenis = jenis\n",
        "\n",
        "  def myfunc(self):\n",
        "    print(\"Hello my name is \" + self.nama)\n",
        "  \n",
        "  def meong(self):\n",
        "    print(\"meeeoonnggg... \")\n",
        "\n",
        "  def info(self):\n",
        "    print(f\"nama: {self.nama}, usia: {self.usia}, warna: {self.warna}, jenis: {self.jenis}\")\n",
        "\n",
        "\n",
        "kucing1 = Kucing(\"cemong\", 1, \"putih coklat muda\", \"anggora\")\n",
        "\n",
        "kucing1.info()"
      ],
      "execution_count": null,
      "outputs": [
        {
          "output_type": "stream",
          "name": "stdout",
          "text": [
            "nama: cemong, usia: 1, warna: putih coklat muda, jenis: anggora\n",
            "nama: cemong, usia: 1, warna: putih coklat muda, jenis: anggora\n"
          ]
        }
      ]
    },
    {
      "cell_type": "markdown",
      "metadata": {
        "id": "Xpt9Lz6vqN-z"
      },
      "source": [
        "## **Abstraction**"
      ]
    },
    {
      "cell_type": "code",
      "metadata": {
        "colab": {
          "base_uri": "https://localhost:8080/"
        },
        "id": "fwa_TEf-v_8f",
        "outputId": "279ca4bf-f27b-4255-8ace-155cf75b17aa"
      },
      "source": [
        "# Memanggil method dari objek tanpa harus mengetahui cara kerja method\n",
        "kucing1.myfunc()"
      ],
      "execution_count": null,
      "outputs": [
        {
          "output_type": "stream",
          "name": "stdout",
          "text": [
            "Hello my name is cemong\n"
          ]
        }
      ]
    },
    {
      "cell_type": "markdown",
      "metadata": {
        "id": "wBoEkCxewdrg"
      },
      "source": [
        "## **Inheritence**"
      ]
    },
    {
      "cell_type": "code",
      "metadata": {
        "colab": {
          "base_uri": "https://localhost:8080/"
        },
        "id": "HsVgKNgowiRP",
        "outputId": "4220ac39-2165-4f84-fa6b-093c97f98d0a"
      },
      "source": [
        "class Binatang(object):\n",
        "  def __init__(self, nama, usia, jenis, mamalia):\n",
        "    self.nama = nama\n",
        "    self.usia = usia\n",
        "    self.jenis = jenis\n",
        "    self.mamalia = mamalia\n",
        "\n",
        "  def tidur(self, durasi):\n",
        "    for x in range(durasi):\n",
        "      print(\"ddrrr... ddrrr... \")\n",
        "\n",
        "  def info(self):\n",
        "    print(f\"nama: {self.nama}, usia: {self.usia}, jenis: {self.jenis}, mamalia: {self.mamalia}\")\n",
        "\n",
        "\n",
        "animal1 = Binatang(\"cemong\", 1, \"omnivora\", True)\n",
        "\n",
        "animal1.info()\n",
        "\n",
        "class Kucing(Binatang):\n",
        "  def __init__(self,  nama, usia, jenis, mamalia, warna, jenis_kucing):\n",
        "    super().__init__(nama, usia, jenis, mamalia)\n",
        "    self.warna = warna\n",
        "    self.jenis_kucing = jenis_kucing\n",
        "  \n",
        "  def meong(self):\n",
        "    print(\"meeeonnggg\")\n",
        "\n",
        "  def info_kucing(self):\n",
        "    print(f\"warna: {self.warna}, jenis kucing: {self.jenis_kucing}\")\n",
        "\n",
        "cat1 = Kucing(\"cemong\", 1, \"omnivora\", True, \"putih coklat muda\", \"anggora\")\n",
        "\n",
        "cat1.info()\n",
        "cat1.info_kucing()"
      ],
      "execution_count": null,
      "outputs": [
        {
          "output_type": "stream",
          "name": "stdout",
          "text": [
            "nama: cemong, usia: 1, jenis: omnivora, mamalia: True\n",
            "nama: cemong, usia: 1, jenis: omnivora, mamalia: True\n",
            "warna: putih coklat muda, jenis kucing: anggora\n"
          ]
        }
      ]
    },
    {
      "cell_type": "markdown",
      "metadata": {
        "id": "lLLHjBNp1HDe"
      },
      "source": [
        "## **Polymorphism**"
      ]
    },
    {
      "cell_type": "code",
      "metadata": {
        "colab": {
          "base_uri": "https://localhost:8080/"
        },
        "id": "BZLA6LDrxDHr",
        "outputId": "c6fc23d7-3caf-4c7c-beda-a98aa114561f"
      },
      "source": [
        "class Ikan(Binatang):\n",
        "  def __init__(self,  nama, usia, jenis, mamalia, warna, jenis_air, jenis_ikan):\n",
        "    super().__init__(nama, usia, jenis, mamalia)\n",
        "    self.warna = warna\n",
        "    self.jenis_air = jenis_air\n",
        "    self.jenis_ikan = jenis_ikan\n",
        "  \n",
        "  def berenang(self, durasi):\n",
        "    print(\"wushh... wush... \")\n",
        "\n",
        "  def info_ikan(self):\n",
        "    print(f\"warna: {self.warna}, jenis ikan: {self.jenis_ikan}, jenis air: {self.jenis_air}\")\n",
        "\n",
        "fish1 = Ikan(\"Jago\", 2, \"omnivora\", False, \"Merah Putih\", \"Tawar\", \"Cupang\")\n",
        "\n",
        "fish1.info()\n",
        "fish1.info_ikan()\n",
        "fish1.tidur(5)"
      ],
      "execution_count": null,
      "outputs": [
        {
          "output_type": "stream",
          "name": "stdout",
          "text": [
            "nama: Jago, usia: 2, jenis: omnivora, mamalia: False\n",
            "warna: Merah Putih, jenis ikan: Cupang, jenis air: Tawar\n",
            "ddrrr... ddrrr... \n",
            "ddrrr... ddrrr... \n",
            "ddrrr... ddrrr... \n",
            "ddrrr... ddrrr... \n",
            "ddrrr... ddrrr... \n"
          ]
        }
      ]
    },
    {
      "cell_type": "markdown",
      "metadata": {
        "id": "bse6mJ62GOR1"
      },
      "source": [
        "## **Activity OOP**\n",
        "\n",
        "Buatlah 3 OOP beserta turunannya dari objek sekitar, buat ulang seperti yang diatas (encapsulation, abstaction, inheritance, polymorphism)"
      ]
    },
    {
      "cell_type": "markdown",
      "metadata": {
        "id": "0qLHBN-H17TD"
      },
      "source": [
        "# **1. Intan**"
      ]
    },
    {
      "cell_type": "code",
      "metadata": {
        "colab": {
          "base_uri": "https://localhost:8080/"
        },
        "id": "56UJx2TyiZDR",
        "outputId": "1601ad56-7b64-4014-8f80-269b79f70f86"
      },
      "source": [
        "# Enkapsulation\n",
        "barang = \"Meja belajar\"\n",
        "bahan = \"Kayu Jati\"\n",
        "warna = \"coklat\"\n",
        "jumlah = 2\n",
        "\n",
        "def jenis():\n",
        "  print(\"Meja Belajar olympics\")\n",
        "\n",
        "def info_meja(barang, bahan, warna, jumlah):\n",
        "  print(f\"barang : {barang}, bahan : {bahan}, warna : {warna}, jumlah : {jumlah}\")\n",
        "\n",
        "info_meja(barang, bahan, warna, jumlah)\n",
        "\n",
        "\n",
        "class Meja:\n",
        "  def __init__(self, barang, bahan, warna, jumlah):\n",
        "    self.barang = barang\n",
        "    self.bahan = bahan\n",
        "    self.warna = warna\n",
        "    self.jumlah = jumlah\n",
        "\n",
        "  def myluv(self):\n",
        "    print(\"Barang yang sering digunakan \" + self.barang)\n",
        "  \n",
        "  def jenis(self):\n",
        "    print(\"Meja Belajar Osweet\")\n",
        "\n",
        "  def info(self):\n",
        "    print(f\"barang : {self.barang}, bahan : {self.bahan}, warna : {self.warna}, jumlah : {self.jumlah}\")\n",
        "\n",
        "\n",
        "mejaku = Meja(\"Meja belajar\", \"Kayu Jati\", \"coklat\", 2)\n",
        "\n",
        "mejaku.info()"
      ],
      "execution_count": null,
      "outputs": [
        {
          "output_type": "stream",
          "name": "stdout",
          "text": [
            "barang : Meja belajar, bahan : Kayu Jati, warna : coklat, jumlah : 2\n",
            "barang : Meja belajar, bahan : Kayu Jati, warna : coklat, jumlah : 2\n"
          ]
        }
      ]
    },
    {
      "cell_type": "code",
      "metadata": {
        "colab": {
          "base_uri": "https://localhost:8080/"
        },
        "id": "gtraPVtlknmQ",
        "outputId": "d43f900f-0978-4750-a4ef-ce2046d74cac"
      },
      "source": [
        "#Abstraction \n",
        "# Memanggil method dari objek tanpa harus mengetahui cara kerja method\n",
        "mejaku.myluv()"
      ],
      "execution_count": null,
      "outputs": [
        {
          "output_type": "stream",
          "name": "stdout",
          "text": [
            "Barang yang sering digunakan Meja belajar\n"
          ]
        }
      ]
    },
    {
      "cell_type": "code",
      "metadata": {
        "colab": {
          "base_uri": "https://localhost:8080/"
        },
        "id": "mq2ABTKzk6fA",
        "outputId": "c663f2b3-5a0b-433b-ddb8-849531478555"
      },
      "source": [
        "# Inheritence\n",
        "\n",
        "class Benda(object):\n",
        "  def __init__(self, barang, bahan, kokoh):\n",
        "    self.barang = barang\n",
        "    self.bahan = bahan\n",
        "    self.kokoh = kokoh\n",
        "\n",
        "  def tinggi(self, berapa):\n",
        "    for x in range(berapa):\n",
        "      print(\"Tingginya 130 cm\")\n",
        "\n",
        "  def info(self):\n",
        "    print(f\"barang : {self.barang}, bahan : {self.bahan}, kokoh: {self.kokoh}\")\n",
        "\n",
        "\n",
        "object1 = Benda(\"Meja\", \"Kayu Jati\",  True)\n",
        "\n",
        "object1.info()\n",
        "\n",
        "class Meja(Benda):\n",
        "  def __init__(self,  barang, bahan, kokoh, warna,jumlah, guna):\n",
        "    super().__init__(barang, bahan, kokoh)\n",
        "    self.warna = warna\n",
        "    self.jumlah = jumlah\n",
        "    self.guna = guna\n",
        "  \n",
        "  def jenis(self):\n",
        "    print(\"Meja Belajar Osweet\")\n",
        "\n",
        "  def info_benda(self):\n",
        "    print(f\"warna : {self.warna}, jumlah: {self.jumlah}, guna : {self.guna}\")\n",
        "# warna :{self.warna},\n",
        "\n",
        "bendaku = Meja(\"Meja\", \"Kayu Jati\",  True, \"coklat\", 2, \"sebagai alas\")\n",
        "\n",
        "bendaku.info()\n",
        "bendaku.info_benda()"
      ],
      "execution_count": null,
      "outputs": [
        {
          "output_type": "stream",
          "name": "stdout",
          "text": [
            "barang : Meja, bahan : Kayu Jati, kokoh: True\n",
            "barang : Meja, bahan : Kayu Jati, kokoh: True\n",
            "warna : coklat, jumlah: 2, guna : sebagai alas\n"
          ]
        }
      ]
    },
    {
      "cell_type": "code",
      "metadata": {
        "id": "LZm9gxJwulcH",
        "colab": {
          "base_uri": "https://localhost:8080/"
        },
        "outputId": "5610b9f0-48c0-486f-f963-a35ad2a08e47"
      },
      "source": [
        "# Polymorphism\n",
        "class Kursi(Benda):\n",
        "  def __init__(self,  barang, bahan, kokoh, warna, model, jenis_guna):\n",
        "    super().__init__(barang, bahan, kokoh)\n",
        "    self.warna = warna\n",
        "    self.model = model\n",
        "    self.jenis_guna = jenis_guna\n",
        "  \n",
        "  def panjang(self, berapa):\n",
        "    print(\"Bisa buat rebahan....\")\n",
        "\n",
        "  def info_kursi(self):\n",
        "    print(f\"warna : {self.warna}, model : {self.model}, jenis guna : {self.jenis_guna}\")\n",
        "\n",
        "kursiku = Kursi(\"Kursi Tamu\", \"Kayu Jati\",  False, \"Coklat muda\", \"Kursi panjang resban\", \"Kursi tunggu\")\n",
        "\n",
        "kursiku.info()\n",
        "kursiku.info_kursi()\n",
        "kursiku.tinggi(3)"
      ],
      "execution_count": null,
      "outputs": [
        {
          "output_type": "stream",
          "name": "stdout",
          "text": [
            "barang : Kursi Tamu, bahan : Kayu Jati, kokoh: False\n",
            "warna : Coklat muda, model : Kursi panjang resban, jenis guna : Kursi tunggu\n",
            "Tingginya 130 cm\n",
            "Tingginya 130 cm\n",
            "Tingginya 130 cm\n"
          ]
        }
      ]
    },
    {
      "cell_type": "markdown",
      "metadata": {
        "id": "xf3ylfGtB8qY"
      },
      "source": [
        "# **Time Complexity**\n",
        "## Activity \n",
        "\n",
        "Hitung time complexity dengan bigO Notation pada algoritma berikut:\n",
        "\n",
        "* Tidak perlu di run\n",
        "\n",
        "**NB** : Abaikan konstanta dan ambil nilai tertinggi"
      ]
    },
    {
      "cell_type": "code",
      "metadata": {
        "id": "fnk4oJoJCJJG"
      },
      "source": [
        "# 1 = Big O(3) = O(1)\n",
        "\n",
        "arr = [1, 2, 3, 4, 5]       \n",
        "\n",
        "print(arr[0])     # O(1)\n",
        "print(arr[1])     # O(1) \n",
        "\n",
        "# O(1+1) = O(2) kontstan maka O(1), Constant Time\n"
      ],
      "execution_count": null,
      "outputs": []
    },
    {
      "cell_type": "code",
      "metadata": {
        "id": "LCgmhC-qD0p2"
      },
      "source": [
        "# 2 = Big O(n+3) = O(n)\n",
        "\n",
        "print(arr[2])       # O(1)\n",
        "for number in arr:  # O(n)\n",
        "  print(number)     \n",
        "print(arr[1])       # O(1)\n",
        "print(arr[2])       # O(1) \n",
        "\n",
        "# O(1+n+1+1)= O(n+3) maka diambil nilai tertinggi O(n),Linear Time\n",
        "                              "
      ],
      "execution_count": null,
      "outputs": []
    },
    {
      "cell_type": "code",
      "metadata": {
        "id": "w5Upv3LdECFO"
      },
      "source": [
        "# 3\n",
        "\n",
        "arr2 = [6, 7, 8, 9, 10]\n",
        "\n",
        "for number in arr:    # O(n)\n",
        "  print(number)\n",
        "for number in arr2:   # O(n)\n",
        "  print(number)\n",
        "print(arr2[4])        # O(1)\n",
        "\n",
        "# O(n+n+1) = O(2n+1) = O(n), Linear Time"
      ],
      "execution_count": null,
      "outputs": []
    },
    {
      "cell_type": "code",
      "metadata": {
        "id": "yXtKHziAEghO"
      },
      "source": [
        "# 4 \n",
        "\n",
        "print(arr2[1])        # O(1)\n",
        "for number in arr:    # O(n)\n",
        "  print(number)\n",
        "for number in arr:    # O(n)\n",
        "  print(number)\n",
        "\n",
        "# O(1+n+n) = O(1+2n) = O(n), Linear Time"
      ],
      "execution_count": null,
      "outputs": []
    },
    {
      "cell_type": "code",
      "metadata": {
        "id": "9dXVL-S9EzxT"
      },
      "source": [
        "# 5 \n",
        "\n",
        "for number in arr:        # O(n)\n",
        "  for number2 in arr2:    # O(n)\n",
        "    print(number+number2)\n",
        "print(arr[1]+arr2[1])     # O(1)\n",
        "print(arr2[2])            # O(1)\\\n",
        "\n",
        "# O((n*n)+1+1) = O(n^2 + 2) = O(n^2), Quadratic Time "
      ],
      "execution_count": null,
      "outputs": []
    },
    {
      "cell_type": "code",
      "metadata": {
        "id": "6SC68I3PFFge"
      },
      "source": [
        "# 6 \n",
        "\n",
        "for number in arr:          # O(n)\n",
        "  for number2 in arr:       # O(n)\n",
        "    print(number+number2)\n",
        "print(arr)                  # O(1)\n",
        "\n",
        "# O((n*n)+1) = o(n^2 + 1) = O(n^2), Quadratic Time "
      ],
      "execution_count": null,
      "outputs": []
    },
    {
      "cell_type": "code",
      "metadata": {
        "id": "b7w1_oXnGXfs"
      },
      "source": [
        "# 7 \n",
        "\n",
        "for number in arr:                    # O(n)\n",
        "  for number2 in arr2:                # O(n)\n",
        "    for number3 in arr:               # O(n)\n",
        "      print(number+number2+number3)\n",
        "print(arr[1])                         # O(1)\n",
        "print(arr2[2])                        # O(1)\n",
        "print(arr2[3])                        # O(1)\n",
        "\n",
        "# O((n*n*n)+1+1+1 = O(n^3 + 3) = O(n^3), Cubic Time"
      ],
      "execution_count": null,
      "outputs": []
    },
    {
      "cell_type": "code",
      "metadata": {
        "id": "Cm1Hcy3JG6sh"
      },
      "source": [
        "# 8 \n",
        "\n",
        "for number in arr:          # O(n)\n",
        "  print(number)\n",
        "print(arr2)                 # O(1)\n",
        "for number in arr:          # O(n)\n",
        "  for number2 in arr2:      # O(n)\n",
        "    print(number+number2)\n",
        "print(arr)                  # O(1)\n",
        "\n",
        "# O(n+1+(n*n)+1) = O(n^2 + n + 2) = O(n^2), Quadratic Time"
      ],
      "execution_count": null,
      "outputs": []
    },
    {
      "cell_type": "code",
      "metadata": {
        "id": "EgpO69yqHJ3K",
        "colab": {
          "base_uri": "https://localhost:8080/"
        },
        "outputId": "2be9ba69-781b-43a0-9d1c-077915523e06"
      },
      "source": [
        "# 9 \n",
        "\n",
        "# Algoritma bubble sort_latihan mandiri\n",
        "def bubbleSort(angka):\n",
        "    posisi = 0\n",
        "    for b in range(len(angka)-1):                             # O(n)\n",
        "        for a in range(len(angka)-1-b):                       # O(n)\n",
        "            if angka[a]>angka[a+1]:                           \n",
        "                angka[a],angka[a+1]=angka[a+1],angka[a]\n",
        "        posisi+=1\n",
        "        print(posisi,angka)\n",
        " \n",
        "angka = [21, 7, 1, 9, 3, 15, 8, 20, 5]\n",
        "print('Urutan angka sebelum sorting :', angka)                # O(1)\n",
        "bubbleSort(angka)                                             # O(1)\n",
        "print('Urutan angka setelah sorting :', angka)                # O(1)\n",
        "\n",
        "# O((n*n)+1+1+1) = O(n^2 + 3) = O(n^2), Quadratic Time => Nested Loop"
      ],
      "execution_count": null,
      "outputs": [
        {
          "output_type": "stream",
          "name": "stdout",
          "text": [
            "Urutan angka sebelum sorting : [21, 7, 1, 9, 3, 15, 8, 20, 5]\n",
            "1 [7, 1, 9, 3, 15, 8, 20, 5, 21]\n",
            "2 [1, 7, 3, 9, 8, 15, 5, 20, 21]\n",
            "3 [1, 3, 7, 8, 9, 5, 15, 20, 21]\n",
            "4 [1, 3, 7, 8, 5, 9, 15, 20, 21]\n",
            "5 [1, 3, 7, 5, 8, 9, 15, 20, 21]\n",
            "6 [1, 3, 5, 7, 8, 9, 15, 20, 21]\n",
            "7 [1, 3, 5, 7, 8, 9, 15, 20, 21]\n",
            "8 [1, 3, 5, 7, 8, 9, 15, 20, 21]\n",
            "Urutan angka setelah sorting : [1, 3, 5, 7, 8, 9, 15, 20, 21]\n"
          ]
        }
      ]
    },
    {
      "cell_type": "code",
      "metadata": {
        "id": "qD9VauTyG_RJ",
        "colab": {
          "base_uri": "https://localhost:8080/"
        },
        "outputId": "2613d761-ef43-40f0-c3e3-c1e64324432c"
      },
      "source": [
        "# 10\n",
        "\n",
        "# Algoritma linear search_Latihan\n",
        "def linierSearch(angka, cari):                            \n",
        "  posisi = 0\n",
        "  ketemu = False\n",
        "\n",
        "  while posisi<len(angka) and not ketemu:                   # O(1)\n",
        "    if dicari == lists[posisi]:\n",
        "      ketemu = True\n",
        "    posisi+=1\n",
        "  print('----------------------------------')\n",
        "  print('|  Angka ketemu di index ke- %i   |'%posisi)\n",
        "  print('----------------------------------')\n",
        "lists = []\n",
        "a = int(input('Masukan jumlah list : '))                    # O(1)\n",
        "for i in range(a):                                          # O(n)\n",
        "  x = int(input('Masukan angka ke %i untuk list = '%(i+1)))\n",
        "  lists.append(x)\n",
        "\n",
        "print('__________________________________')\n",
        "dicari = int(input('<==========Cari angka==========> '))    # O(1)\n",
        "linierSearch(lists,dicari)                                  # O(1)\n",
        "\n",
        "# O(1+n+1+1) = O(n+3) = O(n), Linear Time"
      ],
      "execution_count": null,
      "outputs": [
        {
          "output_type": "stream",
          "name": "stdout",
          "text": [
            "Masukan jumlah list : 7\n",
            "Masukan angka ke 1 untuk list = 12\n",
            "Masukan angka ke 2 untuk list = 9\n",
            "Masukan angka ke 3 untuk list = 3\n",
            "Masukan angka ke 4 untuk list = 7\n",
            "Masukan angka ke 5 untuk list = 2\n",
            "Masukan angka ke 6 untuk list = 5\n",
            "Masukan angka ke 7 untuk list = 11\n",
            "__________________________________\n",
            "<==========Cari angka==========> 7\n",
            "----------------------------------\n",
            "|  Angka ketemu di index ke- 4   |\n",
            "----------------------------------\n"
          ]
        }
      ]
    },
    {
      "cell_type": "code",
      "metadata": {
        "id": "OaKrQWZJH28k",
        "colab": {
          "base_uri": "https://localhost:8080/"
        },
        "outputId": "686bbc74-1543-4179-d147-bbffd0fd42a9"
      },
      "source": [
        "# 11 O Log(n)\n",
        "\n",
        "# Algoritma binary search_Latihan\n",
        "def binary_search(angka,listku):            \n",
        "  listku.sort() # Penyortiran List\n",
        "  langkah = 0\n",
        "  ketemu = False\n",
        "  awal = 0\n",
        "  akhir = len(listku)-1\n",
        "  while awal <= akhir and not ketemu:       # O(n)\n",
        "    tengah = (awal+akhir)//2\n",
        "    if listku[tengah] == angka:         \n",
        "      ketemu = True\n",
        "    elif angka > tengah:\n",
        "      awal = tengah+1\n",
        "    else:\n",
        "      akhir = tengah-1\n",
        "    langkah+=1\n",
        "\n",
        "  if ketemu:\n",
        "    print (\"________________________________________________________\")\n",
        "    print (\"Angka ditemukan!\")\n",
        "    print (\"posisi angka yang ditemukan setelah diurutkan adalah %s\" % str(awal+1))\n",
        "    print (\"________________________________________________________\")\n",
        "  else:\n",
        "    print (\"Angka tidak ditemukan!\")\n",
        "  print (\"Proses langkah ke- %s \" % langkah)\n",
        "\n",
        "binary_search(18,[3,1,7,2,18,5])"
      ],
      "execution_count": null,
      "outputs": [
        {
          "output_type": "stream",
          "name": "stdout",
          "text": [
            "________________________________________________________\n",
            "Angka ditemukan!\n",
            "posisi angka yang ditemukan setelah diurutkan adalah 6\n",
            "________________________________________________________\n",
            "Proses langkah ke- 3 \n"
          ]
        }
      ]
    }
  ]
}

#Aji #Sudah #Periksa
